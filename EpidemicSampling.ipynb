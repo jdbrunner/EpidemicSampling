{
 "cells": [
  {
   "cell_type": "code",
   "execution_count": 4,
   "metadata": {},
   "outputs": [],
   "source": [
    "import os\n",
    "import sys\n",
    "sys.path.append(\"../\")\n",
    "\n",
    "import numpy as np\n",
    "import json\n",
    "import matplotlib.pyplot as plt\n",
    "import covid_funs\n",
    "import importlib\n",
    "import subprocess\n",
    "import shlex\n"
   ]
  },
  {
   "cell_type": "markdown",
   "metadata": {},
   "source": [
    "Make a folder to save .json files in"
   ]
  },
  {
   "cell_type": "code",
   "execution_count": null,
   "metadata": {},
   "outputs": [],
   "source": [
    "fldername = \"Example\"\n",
    "try:\n",
    "    os.mkdir(fldername)\n",
    "except:\n",
    "    None"
   ]
  },
  {
   "cell_type": "markdown",
   "metadata": {},
   "source": [
    "Bias = 1 means no bias. Higher puts bias towards testing symptomatic individuals. Bias can also be given as a function of time."
   ]
  },
  {
   "cell_type": "code",
   "execution_count": 1,
   "metadata": {},
   "outputs": [],
   "source": [
    "Bias = 10"
   ]
  },
  {
   "cell_type": "markdown",
   "metadata": {},
   "source": [
    "These are max or average capacities.\n",
    "We can also give a function of time as the capacities. If this function of time is\n",
    "of order 1 (and so relative to some maximum or average), we can then test\n",
    "for a set of maximums/averages."
   ]
  },
  {
   "cell_type": "code",
   "execution_count": 2,
   "metadata": {},
   "outputs": [],
   "source": [
    "capacities = [100,300,900,2700,8100]\n",
    "def capacityfun(t):#A Hill function\n",
    "    return t/(1+t)"
   ]
  },
  {
   "cell_type": "markdown",
   "metadata": {},
   "source": [
    "Next we can set the length of the simulation, and number of times to simulate. "
   ]
  },
  {
   "cell_type": "code",
   "execution_count": null,
   "metadata": {},
   "outputs": [],
   "source": [
    "end_time = 200\n",
    "\n",
    "num_trials = 10"
   ]
  },
  {
   "cell_type": "markdown",
   "metadata": {},
   "source": [
    "We are going to generate our own dynamics. We can generate dynamics any way we want as long as we are left with a dictionary with lists which contains\n",
    "\"TimePoints\", \"Symptomatic\",\"Asymptomatic\",\"NonInfected\"\n",
    "as lists.\n",
    "\n",
    "To use the SIR model, we'll need to define our ``R\" parameter, the clearing rate (intrinsic timescale), and some initial conditions."
   ]
  },
  {
   "cell_type": "code",
   "execution_count": 3,
   "metadata": {},
   "outputs": [],
   "source": [
    "def R0(X,t):#Can generate dynamics with the SIR or SAIR model,  with time-varying R0\n",
    "    return (2 - np.exp(-((t-50)/15)**2))/timescale\n",
    "timescale = 15 #1/gamma\n",
    "\n",
    "init_inf = 0.01\n",
    "\n",
    "s0 = (1-init_inf)\n",
    "i0 = init_inf\n",
    "r0 = 0"
   ]
  },
  {
   "cell_type": "markdown",
   "metadata": {},
   "source": [
    "We provide a function to generate dynamics according to an ODE model. Two models (SIR and SAIR) are also provided."
   ]
  },
  {
   "cell_type": "code",
   "execution_count": null,
   "metadata": {},
   "outputs": [],
   "source": [
    "dynamics = covid_funs.gen_dynamics(end_time,[s0,i0,r0],covid_funs.SIR_model,1,-1,[0,2],[R0,1/timescale])\n",
    "total_infected = np.array(dynamics['Symptomatic']) + np.array(dynamics['Asymptomatic'])"
   ]
  },
  {
   "cell_type": "markdown",
   "metadata": {},
   "source": [
    "gen_jsons is a helper function that will generate the .json input files for the executible in the correct format\n",
    "This Bias can be given as a function of time."
   ]
  },
  {
   "cell_type": "code",
   "execution_count": null,
   "metadata": {},
   "outputs": [],
   "source": [
    "covid_funs.gen_jsons(fldername,dynamics,Bias,capacities,capacityfun = capacityfun)"
   ]
  },
  {
   "cell_type": "markdown",
   "metadata": {},
   "source": [
    "We can now use those as input into the model."
   ]
  },
  {
   "cell_type": "code",
   "execution_count": null,
   "metadata": {},
   "outputs": [],
   "source": [
    "svfl = fldername+\"/testresults.json\"\n",
    "dynamicsfl = fldername+\"/dynamics.json\"\n",
    "biasfl = fldername+\"/bias.json\"\n",
    "capfl = fldername+\"/capacity.json\"\n",
    "falsePos = 0.1\n",
    "falseNeg = 0.1\n",
    "smth = 5\n",
    "peak_tol = 3\n",
    "\n",
    "base_command = \"./disease_confidence\"\n",
    "opts = [\"-Dynamics=\"+dynamicsfl]\n",
    "opts +=[\"-TestingBias=\"+biasfl]\n",
    "opts +=[\"-TestingCapacities=\"+capfl]\n",
    "opts +=[\"-Trials=\"+str(num_trials)]\n",
    "opts +=[\"-SaveFile=\"+svfl]\n",
    "opts +=[\"-FalsePositive=\"+str(falsePos)]\n",
    "opts +=[\"-FalseNegative=\"+str(falseNeg)]\n",
    "opts +=[\"-Smoothing=\"+str(smth)]\n",
    "opts +=[\"-PeakTol=\"+str(peak_tol)]\n",
    "\n",
    "\n",
    "full_command = base_command + \" \" + \" \".join(opts)\n",
    "so = covid_funs.run_command(full_command)"
   ]
  },
  {
   "cell_type": "markdown",
   "metadata": {},
   "source": [
    "We can also add the -TotalPop flag to simulate on a limited population size."
   ]
  },
  {
   "cell_type": "markdown",
   "metadata": {},
   "source": [
    "Load the results:"
   ]
  },
  {
   "cell_type": "code",
   "execution_count": null,
   "metadata": {},
   "outputs": [],
   "source": [
    "with open(svfl) as fl:\n",
    "    results = json.load(fl)"
   ]
  },
  {
   "cell_type": "markdown",
   "metadata": {},
   "source": [
    "And we can get and plot the positive proportion of tests:"
   ]
  },
  {
   "cell_type": "code",
   "execution_count": null,
   "metadata": {},
   "outputs": [],
   "source": [
    "pos_prop = {}\n",
    "for ky in results[\"SimulatedData\"]:\n",
    "    smps = []\n",
    "    times = []\n",
    "    for sample in results[\"SimulatedData\"][ky]:\n",
    "        smps += [np.array(sample[\"DailyPositive\"])/np.maximum(1,np.array(sample[\"DailyTotal\"]))]\n",
    "        times += [np.array(sample[\"DayTimes\"])]\n",
    "    pos_prop[ky] = (smps,times)\n",
    "\n",
    "\n",
    "for ky in pos_prop.keys():\n",
    "    fig,ax = plt.subplots(figsize = (10,5))\n",
    "    ax.plot(dynamics[\"TimePoints\"],total_infected, label = \"Total Infection Proportion\", color = 'red')\n",
    "\n",
    "    ax.bar(pos_prop[ky][1][0],pos_prop[ky][0][0], label = \"Positive Test Proportion\")\n",
    "    ax.set_xlabel(\"Time\")\n",
    "    ax.legend()\n",
    "    fig.savefig(fldername+\"/\"+ky)\n",
    "    plt.close()"
   ]
  },
  {
   "cell_type": "markdown",
   "metadata": {},
   "source": [
    "We also provide a function to compute the confidence of n-day trends:"
   ]
  },
  {
   "cell_type": "code",
   "execution_count": null,
   "metadata": {},
   "outputs": [],
   "source": [
    "five_day_conf = {}\n",
    "five_day_OverTime = {}\n",
    "five_day_err = {}\n",
    "for ky in pos_prop.keys():\n",
    "    five_day_conf[ky],five_day_OverTime[ky],five_day_err[ky] = covid_funs.trendConfidence(pos_prop[ky][0],pos_prop[ky][1],total_infected,dynamics[\"TimePoints\"],5)"
   ]
  }
 ],
 "metadata": {
  "kernelspec": {
   "display_name": "Python 3",
   "language": "python",
   "name": "python3"
  },
  "language_info": {
   "codemirror_mode": {
    "name": "ipython",
    "version": 3
   },
   "file_extension": ".py",
   "mimetype": "text/x-python",
   "name": "python",
   "nbconvert_exporter": "python",
   "pygments_lexer": "ipython3",
   "version": "3.7.3"
  }
 },
 "nbformat": 4,
 "nbformat_minor": 2
}
